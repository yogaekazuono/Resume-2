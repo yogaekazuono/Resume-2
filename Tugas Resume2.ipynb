{
 "cells": [
  {
   "cell_type": "markdown",
   "metadata": {},
   "source": [
    "## Class"
   ]
  },
  {
   "cell_type": "markdown",
   "metadata": {},
   "source": [
    "Class adalah kumpulan atas definisi data dan fungsi-fungsi dalam suatu unit untuk suatu tujuan tertentu. Sebuah class adalah dasar dari modularitas dan struktur dalam pemrograman berorientasi object.<br>\n",
    "Class adalah salah satu cara bagaimana kita membuat sebuah kode yang mempunyai behaviour tertentu dan lebih mudah dalam mengorganisasi berbagai fungsi dan state-nya. Dalam sebuah class kamu dapat menyimpan sebuah state tanpa harus membuat banyak state bila tidak menggunakan class."
   ]
  },
  {
   "cell_type": "markdown",
   "metadata": {},
   "source": [
    "### Istilah dalam class    \n",
    "    class : type data yang tidak hanya berisi data tetapi juga method\n",
    "    object : suatu variabel dengan tipe data class\n",
    "    state/property : bagian class yang berisi nilai\n",
    "    Method : fungsi yang melekat pada lass\n",
    "    construction : fungsi yang dijalankan oleh python saat pertama kali objeck dibuat"
   ]
  },
  {
   "cell_type": "markdown",
   "metadata": {},
   "source": [
    "#### contoh "
   ]
  },
  {
   "cell_type": "code",
   "execution_count": 30,
   "metadata": {},
   "outputs": [],
   "source": [
    "class BilanganKompleks:\n",
    "    def __init__(self,a,b): # constructor\n",
    "        self.real=a\n",
    "        self.im=b\n",
    "    def display(self): # method untuk menampilkan state\n",
    "        print (self.real,'+',self.im,'i')"
   ]
  },
  {
   "cell_type": "code",
   "execution_count": 31,
   "metadata": {},
   "outputs": [
    {
     "name": "stdout",
     "output_type": "stream",
     "text": [
      "4 + 6 i\n",
      "2 + 3 i\n"
     ]
    }
   ],
   "source": [
    "data1=BilanganKompleks(4,6)\n",
    "data1.display()\n",
    "data2=BilanganKompleks(2,3)\n",
    "data2.display()"
   ]
  },
  {
   "cell_type": "markdown",
   "metadata": {},
   "source": [
    "### Linked List"
   ]
  },
  {
   "cell_type": "markdown",
   "metadata": {},
   "source": [
    "digunakan untuk menyimpan sejumlah objek data biasanya secara terurut sehingga memungkinkan penambahan, pengurangan, dan pencarian atas elemen data yang tersimpan dalam senarai dilakukan secara lebih efektif.<br>\n",
    "Bahasa pemrograman python telah menyediakan type data yang dinamis, yaitu **List**.  Ukuran dari variabel yang bertipe data **list** dapat diatur sesuai dengan keinginan programmer selama program dijalankan, tidak harus mempunyai ukuran tetap di awal.  Tipe data ini juga menyediakan method menambah data pada saat diperlukan, sehingga tipe data ini bersifat dinamis.<br>\n",
    "    \n",
    "    menambah\n",
    "    delete\n",
    "    insert"
   ]
  },
  {
   "cell_type": "markdown",
   "metadata": {},
   "source": [
    "Node :\n",
    "- *constructor*, yang akan dijalankan setiap instansiasi class\n",
    "- *getData*, untuk mengetahui informasi data yang terdapat pada node tersebut\n",
    "- *getNext*, untuk mengetahui informasi node berikutnya, jika tidak ada node berikutnya maka nilai balik berupa *None*\n",
    "- *setData*, untuk merubah informasi data yang terdapat pada node tersebut\n",
    "- *setNext*, untuk menentukan node berikutnya yang ditunjukan oleh informasi *next* dari node tersebut"
   ]
  },
  {
   "cell_type": "code",
   "execution_count": 32,
   "metadata": {},
   "outputs": [],
   "source": [
    "class Node:\n",
    "    def __init__(self,init_data):\n",
    "        self.data = init_data\n",
    "        self.next = None\n",
    "    def getData(self):\n",
    "        return self.data\n",
    "    def getNext(self):\n",
    "        return self.next\n",
    "    def setData(self,newdata):\n",
    "        self.data = newdata\n",
    "    def setNext(self,new_next):\n",
    "        self.next = new_next"
   ]
  },
  {
   "cell_type": "code",
   "execution_count": 33,
   "metadata": {},
   "outputs": [
    {
     "name": "stdout",
     "output_type": "stream",
     "text": [
      "None\n",
      "None\n",
      "<__main__.Node object at 0x00000175AB035AC8>\n"
     ]
    }
   ],
   "source": [
    "a=Node(93)\n",
    "b=Node(20)\n",
    "print(a.getNext())\n",
    "print(b.getNext())\n",
    "a.setNext(b)\n",
    "print(a.getNext())"
   ]
  },
  {
   "cell_type": "markdown",
   "metadata": {},
   "source": [
    "Pada code diatas, terdapat obyek a dan obyek b yang memiliki tipe data class Node. Pada saat instansiasi, property data kedua obyek ini bernilai 93 dan 20, serta property next bernilai None.\n",
    "Pada baris kelima, terdapat perintah a.setNext(b), yang berarti property next dari obyek a akan menunjuk ke obyek b. Sehingga ketika dilakukan perintah print(a.getNext()) akan menunjukkan ke suatu class Node."
   ]
  },
  {
   "cell_type": "code",
   "execution_count": 34,
   "metadata": {},
   "outputs": [],
   "source": [
    "class LinkedList:\n",
    "    def __init__(self):\n",
    "        self.head = None\n",
    "    def isEmpty(self):\n",
    "        return self.head==None\n",
    "    def add(self,item):\n",
    "        temp = Node(item)\n",
    "        temp.setNext(self.head)\n",
    "        self.head = temp\n",
    "    def size(self):\n",
    "        current = self.head\n",
    "        count = 0"
   ]
  },
  {
   "cell_type": "code",
   "execution_count": 24,
   "metadata": {},
   "outputs": [],
   "source": [
    "mylist=LinkedList()"
   ]
  },
  {
   "cell_type": "code",
   "execution_count": 25,
   "metadata": {},
   "outputs": [
    {
     "name": "stdout",
     "output_type": "stream",
     "text": [
      "None\n"
     ]
    },
    {
     "data": {
      "text/plain": [
       "True"
      ]
     },
     "execution_count": 25,
     "metadata": {},
     "output_type": "execute_result"
    }
   ],
   "source": [
    "print(mylist.head)\n",
    "mylist.isEmpty()"
   ]
  },
  {
   "cell_type": "markdown",
   "metadata": {},
   "source": [
    "#### contoh"
   ]
  },
  {
   "cell_type": "code",
   "execution_count": 26,
   "metadata": {},
   "outputs": [],
   "source": [
    "class LinkedList:\n",
    "    def __init__(self):\n",
    "        self.head = None\n",
    "    def isEmpty(self):\n",
    "        return self.head==None\n",
    "    def add(self, item):\n",
    "        temp = Node(item)\n",
    "        temp.setNext(self.head)\n",
    "        self.head = temp\n",
    "    def size(self):\n",
    "        curent = self.head\n",
    "        count = 0\n",
    "        while curent != None:\n",
    "            count = count + 1\n",
    "            \n",
    "            curent = curent.getNext()           \n",
    "        return count"
   ]
  },
  {
   "cell_type": "code",
   "execution_count": 27,
   "metadata": {},
   "outputs": [
    {
     "name": "stdout",
     "output_type": "stream",
     "text": [
      "3\n"
     ]
    }
   ],
   "source": [
    "mylist=LinkedList()\n",
    "mylist.add(45)\n",
    "mylist.add(34)\n",
    "mylist.add(70)\n",
    "print(mylist.size())"
   ]
  }
 ],
 "metadata": {
  "kernelspec": {
   "display_name": "Python 3",
   "language": "python",
   "name": "python3"
  },
  "language_info": {
   "codemirror_mode": {
    "name": "ipython",
    "version": 3
   },
   "file_extension": ".py",
   "mimetype": "text/x-python",
   "name": "python",
   "nbconvert_exporter": "python",
   "pygments_lexer": "ipython3",
   "version": "3.6.5"
  }
 },
 "nbformat": 4,
 "nbformat_minor": 2
}
